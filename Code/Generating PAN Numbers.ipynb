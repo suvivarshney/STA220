{
 "cells": [
  {
   "cell_type": "markdown",
   "id": "6d3e5f6f",
   "metadata": {},
   "source": [
    "## 1. This File is used to geenrate random PAN Card numbers which are later used to scrap data from the IRDAI website\n",
    "\n",
    "## 2. Fortunately, the PAN numbers follow a pattern: \"AAAAA1234A\", and we leverage this\n",
    "\n",
    "## 3. We generate 10,000,000 random PAN card numbers to hit\n"
   ]
  },
  {
   "cell_type": "code",
   "execution_count": 14,
   "id": "e89f5b61",
   "metadata": {},
   "outputs": [],
   "source": [
    "#All the Imports\n",
    "import pandas as pd\n",
    "import string\n",
    "import random"
   ]
  },
  {
   "cell_type": "code",
   "execution_count": 15,
   "id": "b3b766f4",
   "metadata": {},
   "outputs": [],
   "source": [
    "format = 'AAAAA1234A'"
   ]
  },
  {
   "cell_type": "code",
   "execution_count": 17,
   "id": "04c68749",
   "metadata": {},
   "outputs": [],
   "source": [
    "#Store the PAN card numbers in this list\n",
    "pan_list=[]"
   ]
  },
  {
   "cell_type": "code",
   "execution_count": 21,
   "id": "8a2a06dc",
   "metadata": {},
   "outputs": [],
   "source": [
    "#Generate 10,000,000 PAN card numbers\n",
    "while len(pan_list)<10000000:\n",
    "    tmp=''\n",
    "    tmp+=random.choice(string.ascii_letters.upper())\n",
    "    tmp+=random.choice(string.ascii_letters.upper())\n",
    "    tmp+=random.choice(string.ascii_letters.upper())\n",
    "    tmp+=random.choice(string.ascii_letters.upper())\n",
    "    tmp+=random.choice(string.ascii_letters.upper())\n",
    "    tmp+=str(random.randint(0,9))\n",
    "    tmp+=str(random.randint(0,9))\n",
    "    tmp+=str(random.randint(0,9))\n",
    "    tmp+=str(random.randint(0,9))\n",
    "    tmp+=random.choice(string.ascii_letters.upper())\n",
    "    if (tmp not in pan_list):\n",
    "        pan_list.append(tmp)"
   ]
  },
  {
   "cell_type": "code",
   "execution_count": 23,
   "id": "58116625",
   "metadata": {},
   "outputs": [
    {
     "data": {
      "text/plain": [
       "1000000"
      ]
     },
     "execution_count": 23,
     "metadata": {},
     "output_type": "execute_result"
    }
   ],
   "source": [
    "len(pan_list)\n"
   ]
  },
  {
   "cell_type": "code",
   "execution_count": 29,
   "id": "be761f5f",
   "metadata": {},
   "outputs": [],
   "source": [
    "#Saving as pandas dataframe. This data is found in the data folder\n",
    "pd.DataFrame(pan_list,columns=['PAN']).to_csv('Data/PAN.csv',index=False)"
   ]
  },
  {
   "cell_type": "code",
   "execution_count": null,
   "id": "69d01ef0",
   "metadata": {},
   "outputs": [],
   "source": []
  }
 ],
 "metadata": {
  "kernelspec": {
   "display_name": "Python 3 (ipykernel)",
   "language": "python",
   "name": "python3"
  },
  "language_info": {
   "codemirror_mode": {
    "name": "ipython",
    "version": 3
   },
   "file_extension": ".py",
   "mimetype": "text/x-python",
   "name": "python",
   "nbconvert_exporter": "python",
   "pygments_lexer": "ipython3",
   "version": "3.9.16"
  }
 },
 "nbformat": 4,
 "nbformat_minor": 5
}
