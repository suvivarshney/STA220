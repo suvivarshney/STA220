{
 "cells": [
  {
   "cell_type": "markdown",
   "id": "8d47b3ff",
   "metadata": {},
   "source": [
    "## Here we try to detect the language of the reviews, using Machine Learning\n",
    "### Combining 2 datasets of Hotels and Reviews"
   ]
  },
  {
   "cell_type": "code",
   "execution_count": 89,
   "id": "7cf43f4c",
   "metadata": {},
   "outputs": [],
   "source": [
    "import warnings\n",
    "warnings.filterwarnings(\"ignore\")#Ignoring warnings to clean up the notebook\n",
    "import json\n",
    "import os\n",
    "import pandas as pd\n",
    "from dateutil import parser\n",
    "import tqdm\n",
    "import matplotlib.pyplot as plt\n",
    "import numpy as np"
   ]
  },
  {
   "cell_type": "code",
   "execution_count": 11,
   "id": "0b35c2e1",
   "metadata": {},
   "outputs": [],
   "source": [
    "#Mention the path with the .json files\n",
    "data_path = 'Data/'"
   ]
  },
  {
   "cell_type": "code",
   "execution_count": 53,
   "id": "844adbd1",
   "metadata": {},
   "outputs": [],
   "source": [
    "key_list_hotel=['name', 'location', 'price', 'room_type', 'link', 'review_score', 'review_category', 'no_of_reviews', \n",
    "                'amenities', 'ratings', 'reviews_list']\n",
    "\n",
    "key_list_ratings_hotel=['Best Rating', 'Staff', 'Facilities', 'Cleanliness', 'Comfort', 'Value for money', 'Location', \n",
    "                       'Free WiFi']\n",
    "\n",
    "data_hotel = pd.DataFrame(columns=['Hotel_Name', 'City', 'Distance_for_Center', 'Chepest_Room_Price_$', 'Cheapest_Room_Type', \n",
    "                            'Average_Hotel_Rating', 'Review_category', 'No_of_Reviews', 'ammenities', 'Best_Rating', \n",
    "                            'Staff_Rating', 'Facilities_Rating', 'Cleanliness_Rating', 'Confort_Rating', \n",
    "                            'Value_for_Money_Rating', 'Location_rating', 'Free_Wifi_Rating'])\n",
    "\n",
    "\n",
    "data_reviews = pd.DataFrame(columns=['Hotel_Name', 'Reviewer_Name', 'Reviewer_Country', 'Room_Type', 'Review_Month', 'Review_Year',\n",
    "                                    'Stay_Period_Nights', 'Stay_Start_Date', 'Reviewer_Group_Type', 'Main_Review', \n",
    "                                    'Review_Rating', 'Review_Likes', 'Review_Dislikes'])"
   ]
  },
  {
   "cell_type": "code",
   "execution_count": 54,
   "id": "4e096f16",
   "metadata": {},
   "outputs": [],
   "source": [
    "#Loading Hotel Data\n",
    "for i in os.listdir(data_path):\n",
    "    if '.json' in i:\n",
    "        f=open(data_path+i)\n",
    "        tmp=json.load(f)\n",
    "        for city in tmp:\n",
    "            city=tmp['city_name']\n",
    "            for hotel in tmp['hotel_list']: \n",
    "                for key in key_list_hotel:\n",
    "                    if key not in hotel.keys():\n",
    "                        hotel['key']=None\n",
    "\n",
    "                    for sub_key in key_list_ratings_hotel:\n",
    "                        if sub_key not in hotel['ratings'].keys():\n",
    "                            hotel['ratings'][sub_key] = None\n",
    "\n",
    "                data_hotel=data_hotel.append({'Hotel_Name':hotel['name'],\n",
    "                          'City': city,\n",
    "                          'Distance_for_Center':hotel['location'],\n",
    "                          'Chepest_Room_Price_$':hotel['price'],\n",
    "                          'Cheapest_Room_Type':hotel['room_type'], \n",
    "                          'Average_Hotel_Rating':hotel['review_score'],\n",
    "                          'Review_category':hotel['review_category'],\n",
    "                          'No_of_Reviews':hotel['no_of_reviews'],\n",
    "                          'ammenities':hotel['amenities'],\n",
    "                          'Best_Rating':hotel['ratings']['Best Rating'],\n",
    "                          'Staff_Rating':hotel['ratings']['Staff'],\n",
    "                          'Facilities_Rating':hotel['ratings']['Facilities'],\n",
    "                          'Cleanliness_Rating':hotel['ratings']['Cleanliness'],\n",
    "                          'Confort_Rating':hotel['ratings']['Comfort'], \n",
    "                          'Value_for_Money_Rating':hotel['ratings']['Value for money'],\n",
    "                          'Location_rating':hotel['ratings']['Location'], \n",
    "                          'Free_Wifi_Rating':hotel['ratings']['Free WiFi']}, ignore_index=True)\n",
    "\n",
    "del tmp, key, sub_key, f, i, city, hotel, key_list_hotel, key_list_ratings_hotel\n",
    "\n",
    "data_hotel['Distance_for_Center']= data_hotel['Distance_for_Center'].str.split(' ').str[0].astype(float)\n",
    "data_hotel['No_of_Reviews']= data_hotel['No_of_Reviews'].str.split(' ').str[0].str.replace('\\,','').astype(int)\n",
    "data_hotel['Chepest_Room_Price_$']= data_hotel['Chepest_Room_Price_$'].str.strip('$').str.replace(',','').astype(float)\n",
    "data_hotel['City']=data_hotel['City'].apply(lambda x: 'San Francisco' if len(x)==4 else x)\n",
    "data_hotel['City']=data_hotel['City'].apply(lambda x: 'San Diego' if 'San Diego' in x else x)\n",
    "data_hotel['City']=data_hotel['City'].apply(lambda x: 'Los Angeles' if 'Los Angeles' in x else x)"
   ]
  },
  {
   "cell_type": "code",
   "execution_count": 56,
   "id": "68cdbdff",
   "metadata": {},
   "outputs": [
    {
     "name": "stderr",
     "output_type": "stream",
     "text": [
      "100%|███████████████████████████████████████████| 15/15 [04:16<00:00, 17.13s/it]\n"
     ]
    }
   ],
   "source": [
    "#Due to limited RAM, loading only 50 reviews per hotel\n",
    "for i in tqdm.tqdm(os.listdir(data_path)):\n",
    "    if '.json' in i:\n",
    "        f=open(data_path+i)\n",
    "        tmp=json.load(f)\n",
    "        for city in tmp:\n",
    "            city=tmp['city_name']\n",
    "            for hotel in tmp['hotel_list']: \n",
    "                for review in hotel['reviews_list'][:50]:\n",
    "                    data_reviews=data_reviews.append({\n",
    "                        'City':city,\n",
    "                        'Hotel_Name':hotel, \n",
    "                        'Reviewer_Name':review['Reviewer_Name'], \n",
    "                        'Reviewer_Country':review['Reviewer_Country'], \n",
    "                        'Room_Type':review['Room_Type'], \n",
    "                        'Review_Month':review['Review_Month'].split(' ')[0],\n",
    "                        'Review_Year':review['Review_Month'].split(' ')[1],\n",
    "                        'Stay_Period_Nights':review['Stay_Period'], \n",
    "                        'Stay_Start_Date':parser.parse(review['Stay_Start_Date']), \n",
    "                        'Reviewer_Group_Type':review['Reviewer_Group_Type'], \n",
    "                        'Main_Review':review['Main_Review'], \n",
    "                        'Review_Rating':review['Review_Rating'], \n",
    "                        'Review_Likes':review['Review_Likes'], \n",
    "                        'Review_Dislikes':review['Review_Dislikes']\n",
    "                    }, ignore_index=True)\n",
    "                \n",
    "del f, tmp, city, hotel, review\n",
    "data_reviews['City']=data_reviews['City'].apply(lambda x: 'San Francisco' if len(x)==4 else x)\n",
    "data_reviews['City']=data_reviews['City'].apply(lambda x: 'San Diego' if 'San Diego' in x else x)\n",
    "data_reviews['City']=data_reviews['City'].apply(lambda x: 'Los Angeles' if 'Los Angeles' in x else x)"
   ]
  },
  {
   "cell_type": "code",
   "execution_count": 57,
   "id": "43fa0b71",
   "metadata": {},
   "outputs": [],
   "source": [
    "#Getting rid of incorrect values\n",
    "data_reviews=data_reviews[data_reviews['Stay_Period_Nights']!='Couple'].reset_index(drop=True)\n",
    "data_reviews=data_reviews[~data_reviews['Stay_Period_Nights'].str.contains('Solo')].reset_index(drop=True)\n",
    "data_reviews=data_reviews[data_reviews['Stay_Period_Nights']!='Family'].reset_index(drop=True)\n",
    "data_reviews=data_reviews[data_reviews['Stay_Period_Nights']!='Group'].reset_index(drop=True)"
   ]
  },
  {
   "cell_type": "code",
   "execution_count": 58,
   "id": "48b96d76",
   "metadata": {},
   "outputs": [],
   "source": [
    "data_reviews['Stay_Period_Nights']=data_reviews['Stay_Period_Nights'].str.split(' ').str[0].astype(int)"
   ]
  },
  {
   "cell_type": "code",
   "execution_count": 59,
   "id": "d141d827",
   "metadata": {},
   "outputs": [
    {
     "name": "stdout",
     "output_type": "stream",
     "text": [
      "(1856, 17)\n",
      "(61864, 14)\n"
     ]
    }
   ],
   "source": [
    "print(data_hotel.shape)\n",
    "print(data_reviews.shape)"
   ]
  },
  {
   "cell_type": "code",
   "execution_count": 60,
   "id": "9b47b1ae",
   "metadata": {},
   "outputs": [],
   "source": [
    "#Population 'None' and 'N/A' with '' No Character\n",
    "data_reviews['Main_Review']=data_reviews['Main_Review'].fillna('').str.replace('N/A','')\n",
    "data_reviews['Review_Likes']=data_reviews['Review_Likes'].fillna('').str.replace('N/A','')\n",
    "data_reviews['Review_Dislikes']=data_reviews['Review_Dislikes'].fillna('').str.replace('N/A','')"
   ]
  },
  {
   "cell_type": "code",
   "execution_count": 61,
   "id": "79a7df51",
   "metadata": {},
   "outputs": [
    {
     "data": {
      "text/html": [
       "<div>\n",
       "<style scoped>\n",
       "    .dataframe tbody tr th:only-of-type {\n",
       "        vertical-align: middle;\n",
       "    }\n",
       "\n",
       "    .dataframe tbody tr th {\n",
       "        vertical-align: top;\n",
       "    }\n",
       "\n",
       "    .dataframe thead th {\n",
       "        text-align: right;\n",
       "    }\n",
       "</style>\n",
       "<table border=\"1\" class=\"dataframe\">\n",
       "  <thead>\n",
       "    <tr style=\"text-align: right;\">\n",
       "      <th></th>\n",
       "      <th>Hotel_Name</th>\n",
       "      <th>Reviewer_Name</th>\n",
       "      <th>Reviewer_Country</th>\n",
       "      <th>Room_Type</th>\n",
       "      <th>Review_Month</th>\n",
       "      <th>Review_Year</th>\n",
       "      <th>Stay_Period_Nights</th>\n",
       "      <th>Stay_Start_Date</th>\n",
       "      <th>Reviewer_Group_Type</th>\n",
       "      <th>Main_Review</th>\n",
       "      <th>Review_Rating</th>\n",
       "      <th>Review_Likes</th>\n",
       "      <th>Review_Dislikes</th>\n",
       "      <th>City</th>\n",
       "    </tr>\n",
       "  </thead>\n",
       "  <tbody>\n",
       "    <tr>\n",
       "      <th>0</th>\n",
       "      <td>{'name': 'Hyatt Centric Fisherman's Wharf San ...</td>\n",
       "      <td>Edmonton</td>\n",
       "      <td>Canada</td>\n",
       "      <td>King/Double Room</td>\n",
       "      <td>November</td>\n",
       "      <td>2022</td>\n",
       "      <td>5</td>\n",
       "      <td>2022-11-18</td>\n",
       "      <td>Family</td>\n",
       "      <td>Exceptional</td>\n",
       "      <td>10</td>\n",
       "      <td>Location was great. Very clean hotel</td>\n",
       "      <td>Price</td>\n",
       "      <td>San Francisco</td>\n",
       "    </tr>\n",
       "    <tr>\n",
       "      <th>1</th>\n",
       "      <td>{'name': 'Hyatt Centric Fisherman's Wharf San ...</td>\n",
       "      <td>Evan</td>\n",
       "      <td>United States</td>\n",
       "      <td>King Room with City View</td>\n",
       "      <td>March</td>\n",
       "      <td>2023</td>\n",
       "      <td>3</td>\n",
       "      <td>2023-03-10</td>\n",
       "      <td>Couple</td>\n",
       "      <td>Great hotel in a great location, good value</td>\n",
       "      <td>9.0</td>\n",
       "      <td>Great city view, the staff was very accommodat...</td>\n",
       "      <td></td>\n",
       "      <td>San Francisco</td>\n",
       "    </tr>\n",
       "    <tr>\n",
       "      <th>2</th>\n",
       "      <td>{'name': 'Hyatt Centric Fisherman's Wharf San ...</td>\n",
       "      <td>John</td>\n",
       "      <td>Australia</td>\n",
       "      <td>Standard King Room</td>\n",
       "      <td>February</td>\n",
       "      <td>2023</td>\n",
       "      <td>4</td>\n",
       "      <td>2023-02-22</td>\n",
       "      <td>Couple</td>\n",
       "      <td>Comfort, cleanliness, welcoming vibe, friendly...</td>\n",
       "      <td>9.0</td>\n",
       "      <td>Extremely pleasant experience from a late book...</td>\n",
       "      <td></td>\n",
       "      <td>San Francisco</td>\n",
       "    </tr>\n",
       "    <tr>\n",
       "      <th>3</th>\n",
       "      <td>{'name': 'Hyatt Centric Fisherman's Wharf San ...</td>\n",
       "      <td>Sandra</td>\n",
       "      <td>United States</td>\n",
       "      <td>Double Room with Two Double Beds and City View</td>\n",
       "      <td>February</td>\n",
       "      <td>2023</td>\n",
       "      <td>1</td>\n",
       "      <td>2023-02-22</td>\n",
       "      <td>Family</td>\n",
       "      <td>It was great</td>\n",
       "      <td>8.0</td>\n",
       "      <td>I booked rooms with city view but did not get ...</td>\n",
       "      <td></td>\n",
       "      <td>San Francisco</td>\n",
       "    </tr>\n",
       "    <tr>\n",
       "      <th>4</th>\n",
       "      <td>{'name': 'Hyatt Centric Fisherman's Wharf San ...</td>\n",
       "      <td>Nathan</td>\n",
       "      <td>United States</td>\n",
       "      <td>Standard Double Room with Two Double Beds</td>\n",
       "      <td>February</td>\n",
       "      <td>2023</td>\n",
       "      <td>1</td>\n",
       "      <td>2023-02-21</td>\n",
       "      <td>Solo traveller</td>\n",
       "      <td>The beauty if the bed</td>\n",
       "      <td>8.0</td>\n",
       "      <td>closer to everythings</td>\n",
       "      <td>the hotel hide it</td>\n",
       "      <td>San Francisco</td>\n",
       "    </tr>\n",
       "  </tbody>\n",
       "</table>\n",
       "</div>"
      ],
      "text/plain": [
       "                                          Hotel_Name Reviewer_Name  \\\n",
       "0  {'name': 'Hyatt Centric Fisherman's Wharf San ...      Edmonton   \n",
       "1  {'name': 'Hyatt Centric Fisherman's Wharf San ...          Evan   \n",
       "2  {'name': 'Hyatt Centric Fisherman's Wharf San ...          John   \n",
       "3  {'name': 'Hyatt Centric Fisherman's Wharf San ...        Sandra   \n",
       "4  {'name': 'Hyatt Centric Fisherman's Wharf San ...        Nathan   \n",
       "\n",
       "  Reviewer_Country                                       Room_Type  \\\n",
       "0           Canada                                King/Double Room   \n",
       "1    United States                        King Room with City View   \n",
       "2        Australia                              Standard King Room   \n",
       "3    United States  Double Room with Two Double Beds and City View   \n",
       "4    United States       Standard Double Room with Two Double Beds   \n",
       "\n",
       "  Review_Month Review_Year  Stay_Period_Nights Stay_Start_Date  \\\n",
       "0     November        2022                   5      2022-11-18   \n",
       "1        March        2023                   3      2023-03-10   \n",
       "2     February        2023                   4      2023-02-22   \n",
       "3     February        2023                   1      2023-02-22   \n",
       "4     February        2023                   1      2023-02-21   \n",
       "\n",
       "  Reviewer_Group_Type                                        Main_Review  \\\n",
       "0              Family                                        Exceptional   \n",
       "1              Couple        Great hotel in a great location, good value   \n",
       "2              Couple  Comfort, cleanliness, welcoming vibe, friendly...   \n",
       "3              Family                                       It was great   \n",
       "4      Solo traveller                              The beauty if the bed   \n",
       "\n",
       "  Review_Rating                                       Review_Likes  \\\n",
       "0            10               Location was great. Very clean hotel   \n",
       "1           9.0  Great city view, the staff was very accommodat...   \n",
       "2           9.0  Extremely pleasant experience from a late book...   \n",
       "3           8.0  I booked rooms with city view but did not get ...   \n",
       "4           8.0                              closer to everythings   \n",
       "\n",
       "     Review_Dislikes           City  \n",
       "0              Price  San Francisco  \n",
       "1                     San Francisco  \n",
       "2                     San Francisco  \n",
       "3                     San Francisco  \n",
       "4  the hotel hide it  San Francisco  "
      ]
     },
     "execution_count": 61,
     "metadata": {},
     "output_type": "execute_result"
    }
   ],
   "source": [
    "data_reviews.head()"
   ]
  },
  {
   "cell_type": "markdown",
   "id": "89d98364",
   "metadata": {},
   "source": [
    "## Combining Main Review, likes and Dislikes to detect the language"
   ]
  },
  {
   "cell_type": "code",
   "execution_count": 62,
   "id": "7531589c",
   "metadata": {},
   "outputs": [],
   "source": [
    "#Combining Main Review, likes and Dislikes to detect the language\n",
    "#Adding space and Full Stop to combine\n",
    "data_reviews['Combined_Review']=data_reviews['Main_Review']+pd.Series([' .']*data_reviews.shape[0]) \\\n",
    "+data_reviews['Review_Likes'] + pd.Series([' .']*data_reviews.shape[0]) +data_reviews['Review_Dislikes']"
   ]
  },
  {
   "cell_type": "code",
   "execution_count": 63,
   "id": "577567f6",
   "metadata": {},
   "outputs": [],
   "source": [
    "#Getting the hotel city from the hotel dataset to the reviews dataset and only keeping the necessary columns\n",
    "data_reviews=data_reviews[['City','Hotel_Name','Reviewer_Country', 'Combined_Review', 'Stay_Period_Nights', 'Reviewer_Name']]"
   ]
  },
  {
   "cell_type": "code",
   "execution_count": 64,
   "id": "4498ff65",
   "metadata": {},
   "outputs": [
    {
     "data": {
      "text/html": [
       "<div>\n",
       "<style scoped>\n",
       "    .dataframe tbody tr th:only-of-type {\n",
       "        vertical-align: middle;\n",
       "    }\n",
       "\n",
       "    .dataframe tbody tr th {\n",
       "        vertical-align: top;\n",
       "    }\n",
       "\n",
       "    .dataframe thead th {\n",
       "        text-align: right;\n",
       "    }\n",
       "</style>\n",
       "<table border=\"1\" class=\"dataframe\">\n",
       "  <thead>\n",
       "    <tr style=\"text-align: right;\">\n",
       "      <th></th>\n",
       "      <th>City</th>\n",
       "      <th>Hotel_Name</th>\n",
       "      <th>Reviewer_Country</th>\n",
       "      <th>Combined_Review</th>\n",
       "      <th>Stay_Period_Nights</th>\n",
       "      <th>Reviewer_Name</th>\n",
       "    </tr>\n",
       "  </thead>\n",
       "  <tbody>\n",
       "    <tr>\n",
       "      <th>0</th>\n",
       "      <td>San Francisco</td>\n",
       "      <td>{'name': 'Hyatt Centric Fisherman's Wharf San ...</td>\n",
       "      <td>Canada</td>\n",
       "      <td>Exceptional .Location was great. Very clean ho...</td>\n",
       "      <td>5</td>\n",
       "      <td>Edmonton</td>\n",
       "    </tr>\n",
       "    <tr>\n",
       "      <th>1</th>\n",
       "      <td>San Francisco</td>\n",
       "      <td>{'name': 'Hyatt Centric Fisherman's Wharf San ...</td>\n",
       "      <td>United States</td>\n",
       "      <td>Great hotel in a great location, good value .G...</td>\n",
       "      <td>3</td>\n",
       "      <td>Evan</td>\n",
       "    </tr>\n",
       "    <tr>\n",
       "      <th>2</th>\n",
       "      <td>San Francisco</td>\n",
       "      <td>{'name': 'Hyatt Centric Fisherman's Wharf San ...</td>\n",
       "      <td>Australia</td>\n",
       "      <td>Comfort, cleanliness, welcoming vibe, friendly...</td>\n",
       "      <td>4</td>\n",
       "      <td>John</td>\n",
       "    </tr>\n",
       "    <tr>\n",
       "      <th>3</th>\n",
       "      <td>San Francisco</td>\n",
       "      <td>{'name': 'Hyatt Centric Fisherman's Wharf San ...</td>\n",
       "      <td>United States</td>\n",
       "      <td>It was great .I booked rooms with city view bu...</td>\n",
       "      <td>1</td>\n",
       "      <td>Sandra</td>\n",
       "    </tr>\n",
       "    <tr>\n",
       "      <th>4</th>\n",
       "      <td>San Francisco</td>\n",
       "      <td>{'name': 'Hyatt Centric Fisherman's Wharf San ...</td>\n",
       "      <td>United States</td>\n",
       "      <td>The beauty if the bed .closer to everythings ....</td>\n",
       "      <td>1</td>\n",
       "      <td>Nathan</td>\n",
       "    </tr>\n",
       "  </tbody>\n",
       "</table>\n",
       "</div>"
      ],
      "text/plain": [
       "            City                                         Hotel_Name  \\\n",
       "0  San Francisco  {'name': 'Hyatt Centric Fisherman's Wharf San ...   \n",
       "1  San Francisco  {'name': 'Hyatt Centric Fisherman's Wharf San ...   \n",
       "2  San Francisco  {'name': 'Hyatt Centric Fisherman's Wharf San ...   \n",
       "3  San Francisco  {'name': 'Hyatt Centric Fisherman's Wharf San ...   \n",
       "4  San Francisco  {'name': 'Hyatt Centric Fisherman's Wharf San ...   \n",
       "\n",
       "  Reviewer_Country                                    Combined_Review  \\\n",
       "0           Canada  Exceptional .Location was great. Very clean ho...   \n",
       "1    United States  Great hotel in a great location, good value .G...   \n",
       "2        Australia  Comfort, cleanliness, welcoming vibe, friendly...   \n",
       "3    United States  It was great .I booked rooms with city view bu...   \n",
       "4    United States  The beauty if the bed .closer to everythings ....   \n",
       "\n",
       "   Stay_Period_Nights Reviewer_Name  \n",
       "0                   5      Edmonton  \n",
       "1                   3          Evan  \n",
       "2                   4          John  \n",
       "3                   1        Sandra  \n",
       "4                   1        Nathan  "
      ]
     },
     "execution_count": 64,
     "metadata": {},
     "output_type": "execute_result"
    }
   ],
   "source": [
    "data_reviews.head()"
   ]
  },
  {
   "cell_type": "code",
   "execution_count": 65,
   "id": "0aa66fb1",
   "metadata": {},
   "outputs": [
    {
     "name": "stdout",
     "output_type": "stream",
     "text": [
      "Collecting langdetect\n",
      "  Downloading langdetect-1.0.9.tar.gz (981 kB)\n",
      "\u001b[2K     \u001b[38;2;114;156;31m━━━━━━━━━━━━━━━━━━━━━━━━━━━━━━━━━━━━━━━\u001b[0m \u001b[32m981.5/981.5 kB\u001b[0m \u001b[31m5.4 MB/s\u001b[0m eta \u001b[36m0:00:00\u001b[0m MB/s\u001b[0m eta \u001b[36m0:00:01\u001b[0m:01\u001b[0m\n",
      "\u001b[?25h  Preparing metadata (setup.py) ... \u001b[?25ldone\n",
      "\u001b[?25hRequirement already satisfied: six in /Users/suvivarshney/miniforge3/envs/STA220/lib/python3.9/site-packages (from langdetect) (1.16.0)\n",
      "Building wheels for collected packages: langdetect\n",
      "  Building wheel for langdetect (setup.py) ... \u001b[?25ldone\n",
      "\u001b[?25h  Created wheel for langdetect: filename=langdetect-1.0.9-py3-none-any.whl size=993225 sha256=edc08d9e45ee6fdf2b68ac55fe03650bec85bb4d668a8d74320169e8bf9f360a\n",
      "  Stored in directory: /Users/suvivarshney/Library/Caches/pip/wheels/d1/c1/d9/7e068de779d863bc8f8fc9467d85e25cfe47fa5051fff1a1bb\n",
      "Successfully built langdetect\n",
      "Installing collected packages: langdetect\n",
      "Successfully installed langdetect-1.0.9\n"
     ]
    }
   ],
   "source": [
    "#We will detect the language using the lang detect library\n",
    "# Install the library\n",
    "#!pip install langdetect\n",
    "from langdetect import detect, detect_langs"
   ]
  },
  {
   "cell_type": "code",
   "execution_count": 75,
   "id": "00deb3a9",
   "metadata": {},
   "outputs": [],
   "source": [
    "def language_detection(text, method = \"single\"):\n",
    "    try:\n",
    "        if(method.lower() != \"single\"):\n",
    "            result = detect_langs(text)\n",
    "        else:\n",
    "            result = detect(text)\n",
    "        return result\n",
    "    #If there is no text (No review)\n",
    "    except:\n",
    "        return 'en'"
   ]
  },
  {
   "cell_type": "code",
   "execution_count": 76,
   "id": "d51d0831",
   "metadata": {},
   "outputs": [],
   "source": [
    "data_reviews['Language']=data_reviews['Combined_Review'].apply(lambda x: language_detection(x))"
   ]
  },
  {
   "cell_type": "code",
   "execution_count": 80,
   "id": "97348055",
   "metadata": {},
   "outputs": [
    {
     "data": {
      "text/plain": [
       "en       58875\n",
       "es         582\n",
       "fr         437\n",
       "nl         415\n",
       "de         348\n",
       "af         193\n",
       "ro         146\n",
       "pt         123\n",
       "ru         100\n",
       "it          82\n",
       "so          75\n",
       "ja          56\n",
       "da          54\n",
       "ca          47\n",
       "ko          42\n",
       "tl          35\n",
       "he          34\n",
       "cy          31\n",
       "pl          29\n",
       "hu          23\n",
       "tr          22\n",
       "sv          15\n",
       "id          14\n",
       "no          13\n",
       "zh-cn       13\n",
       "hr           9\n",
       "et           7\n",
       "sl           7\n",
       "ar           6\n",
       "fi           6\n",
       "sw           5\n",
       "el           4\n",
       "cs           4\n",
       "zh-tw        3\n",
       "lv           2\n",
       "mk           2\n",
       "vi           2\n",
       "sk           2\n",
       "sq           1\n",
       "Name: Language, dtype: int64"
      ]
     },
     "execution_count": 80,
     "metadata": {},
     "output_type": "execute_result"
    }
   ],
   "source": [
    "#Count of Languages\n",
    "data_reviews['Language'].value_counts()"
   ]
  },
  {
   "cell_type": "code",
   "execution_count": 81,
   "id": "f95f3cb0",
   "metadata": {},
   "outputs": [
    {
     "data": {
      "text/plain": [
       "en       0.951684\n",
       "es       0.009408\n",
       "fr       0.007064\n",
       "nl       0.006708\n",
       "de       0.005625\n",
       "af       0.003120\n",
       "ro       0.002360\n",
       "pt       0.001988\n",
       "ru       0.001616\n",
       "it       0.001325\n",
       "so       0.001212\n",
       "ja       0.000905\n",
       "da       0.000873\n",
       "ca       0.000760\n",
       "ko       0.000679\n",
       "tl       0.000566\n",
       "he       0.000550\n",
       "cy       0.000501\n",
       "pl       0.000469\n",
       "hu       0.000372\n",
       "tr       0.000356\n",
       "sv       0.000242\n",
       "id       0.000226\n",
       "no       0.000210\n",
       "zh-cn    0.000210\n",
       "hr       0.000145\n",
       "et       0.000113\n",
       "sl       0.000113\n",
       "ar       0.000097\n",
       "fi       0.000097\n",
       "sw       0.000081\n",
       "el       0.000065\n",
       "cs       0.000065\n",
       "zh-tw    0.000048\n",
       "lv       0.000032\n",
       "mk       0.000032\n",
       "vi       0.000032\n",
       "sk       0.000032\n",
       "sq       0.000016\n",
       "Name: Language, dtype: float64"
      ]
     },
     "execution_count": 81,
     "metadata": {},
     "output_type": "execute_result"
    }
   ],
   "source": [
    "#Percentage of Languages\n",
    "data_reviews['Language'].value_counts(normalize=True)"
   ]
  },
  {
   "cell_type": "code",
   "execution_count": 87,
   "id": "2b0ad685",
   "metadata": {},
   "outputs": [
    {
     "data": {
      "text/plain": [
       "array([58875,   582,   437,   415,   348,   193,   146,   123,   100,\n",
       "          82,    75,    56,    54,    47,    42,    35,    34,    31,\n",
       "          29,    23,    22,    15,    14,    13,    13,     9,     7,\n",
       "           7,     6,     6,     5,     4,     4,     3,     2,     2,\n",
       "           2,     2,     1])"
      ]
     },
     "execution_count": 87,
     "metadata": {},
     "output_type": "execute_result"
    }
   ],
   "source": [
    "data_reviews['Language'].value_counts().values"
   ]
  },
  {
   "cell_type": "markdown",
   "id": "92863370",
   "metadata": {},
   "source": [
    "## As we can see, the top language by a good majority is English. Lets see what languages, other than english are dominant"
   ]
  },
  {
   "cell_type": "code",
   "execution_count": 94,
   "id": "e32b149a",
   "metadata": {},
   "outputs": [
    {
     "data": {
      "text/plain": [
       "Text(0.5, 1.0, 'Normalized Language Percentages')"
      ]
     },
     "execution_count": 94,
     "metadata": {},
     "output_type": "execute_result"
    },
    {
     "data": {
      "image/png": "[encoded data removed]",
      "text/plain": [
       "<Figure size 1000x500 with 1 Axes>"
      ]
     },
     "metadata": {},
     "output_type": "display_data"
    }
   ],
   "source": [
    "#Top Languages other than English\n",
    "fig = plt.figure(figsize = (10, 5))\n",
    " \n",
    "# creating the bar plot\n",
    "plt.bar(data_reviews['Language'].value_counts(normalize=True).index[1:], data_reviews['Language'].value_counts(normalize=True).values[1:], color ='maroon',\n",
    "        width = 0.4)\n",
    " \n",
    "plt.xlabel(\"Language\")\n",
    "plt.ylabel(\"PErcentage of Reviews\")\n",
    "plt.title(\"Normalized Language Percentages\")"
   ]
  },
  {
   "cell_type": "code",
   "execution_count": 108,
   "id": "2531964f",
   "metadata": {},
   "outputs": [
    {
     "data": {
      "text/plain": [
       "City           City           Language  Language\n",
       "Los Angeles    Los Angeles    en        en          17520\n",
       "                              es        es            341\n",
       "                              de        de            186\n",
       "                              nl        nl            183\n",
       "                              fr        fr            179\n",
       "Sacramento     Sacramento     en        en           1579\n",
       "                              nl        nl             30\n",
       "                              fr        fr             13\n",
       "                              af        af              9\n",
       "                              de        de              9\n",
       "San Diego      San Diego      en        en          21209\n",
       "                              fr        fr             88\n",
       "                              nl        nl             82\n",
       "                              es        es             80\n",
       "                              af        af             70\n",
       "San Francisco  San Francisco  en        en          18567\n",
       "                              fr        fr            157\n",
       "                              es        es            153\n",
       "                              nl        nl            120\n",
       "                              de        de             91\n",
       "Name: Language, dtype: int64"
      ]
     },
     "execution_count": 108,
     "metadata": {},
     "output_type": "execute_result"
    }
   ],
   "source": [
    "#Top 5 languages spoken by guests in each city\n",
    "group=data_reviews.groupby(['City','Language'])['Language'].value_counts()\n",
    "group.groupby(level=[0]).nlargest(5)"
   ]
  },
  {
   "cell_type": "code",
   "execution_count": null,
   "id": "f67dd5a6",
   "metadata": {},
   "outputs": [],
   "source": []
  }
 ],
 "metadata": {
  "kernelspec": {
   "display_name": "Python 3 (ipykernel)",
   "language": "python",
   "name": "python3"
  },
  "language_info": {
   "codemirror_mode": {
    "name": "ipython",
    "version": 3
   },
   "file_extension": ".py",
   "mimetype": "text/x-python",
   "name": "python",
   "nbconvert_exporter": "python",
   "pygments_lexer": "ipython3",
   "version": "3.9.16"
  }
 },
 "nbformat": 4,
 "nbformat_minor": 5
}
